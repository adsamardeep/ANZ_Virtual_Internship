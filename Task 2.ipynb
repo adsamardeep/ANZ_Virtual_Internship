{
  "nbformat": 4,
  "nbformat_minor": 0,
  "metadata": {
    "kernelspec": {
      "display_name": "Python 3",
      "language": "python",
      "name": "python3"
    },
    "language_info": {
      "codemirror_mode": {
        "name": "ipython",
        "version": 3
      },
      "file_extension": ".py",
      "mimetype": "text/x-python",
      "name": "python",
      "nbconvert_exporter": "python",
      "pygments_lexer": "ipython3",
      "version": "3.7.4"
    },
    "colab": {
      "name": "Task 2.ipynb",
      "provenance": [],
      "toc_visible": true,
      "include_colab_link": true
    }
  },
  "cells": [
    {
      "cell_type": "markdown",
      "metadata": {
        "id": "view-in-github",
        "colab_type": "text"
      },
      "source": [
        "<a href=\"https://colab.research.google.com/github/adsamardeep/ANZ_Virtual_Internship/blob/master/Task%202.ipynb\" target=\"_parent\"><img src=\"https://colab.research.google.com/assets/colab-badge.svg\" alt=\"Open In Colab\"/></a>"
      ]
    },
    {
      "cell_type": "markdown",
      "metadata": {
        "id": "KnyJ5N9IqPsJ",
        "colab_type": "text"
      },
      "source": [
        "# Imports and loading dataset "
      ]
    },
    {
      "cell_type": "code",
      "metadata": {
        "id": "a-tLWGYkqPsO",
        "colab_type": "code",
        "colab": {}
      },
      "source": [
        "import numpy as np\n",
        "import pandas as pd\n",
        "from sklearn.linear_model import LinearRegression\n",
        "from sklearn.tree import DecisionTreeClassifier, DecisionTreeRegressor"
      ],
      "execution_count": 0,
      "outputs": []
    },
    {
      "cell_type": "code",
      "metadata": {
        "id": "2Kgf5E6yqPsw",
        "colab_type": "code",
        "colab": {}
      },
      "source": [
        "df = pd.read_excel(\"ANZ synthesised transaction dataset.xlsx\")"
      ],
      "execution_count": 0,
      "outputs": []
    },
    {
      "cell_type": "markdown",
      "metadata": {
        "id": "IGSvSvY8qPtL",
        "colab_type": "text"
      },
      "source": [
        "### Modifying data to obtain salaries for each customer"
      ]
    },
    {
      "cell_type": "code",
      "metadata": {
        "scrolled": true,
        "id": "4tz4U2_vqPtP",
        "colab_type": "code",
        "colab": {
          "base_uri": "https://localhost:8080/",
          "height": 235
        },
        "outputId": "8a91c763-c9ea-4227-cdf9-ef51d91fa3b0"
      },
      "source": [
        "df_salaries = df[df[\"txn_description\"]==\"PAY/SALARY\"].groupby(\"customer_id\").mean()\n",
        "df_salaries.head()"
      ],
      "execution_count": 3,
      "outputs": [
        {
          "output_type": "execute_result",
          "data": {
            "text/html": [
              "<div>\n",
              "<style scoped>\n",
              "    .dataframe tbody tr th:only-of-type {\n",
              "        vertical-align: middle;\n",
              "    }\n",
              "\n",
              "    .dataframe tbody tr th {\n",
              "        vertical-align: top;\n",
              "    }\n",
              "\n",
              "    .dataframe thead th {\n",
              "        text-align: right;\n",
              "    }\n",
              "</style>\n",
              "<table border=\"1\" class=\"dataframe\">\n",
              "  <thead>\n",
              "    <tr style=\"text-align: right;\">\n",
              "      <th></th>\n",
              "      <th>card_present_flag</th>\n",
              "      <th>merchant_code</th>\n",
              "      <th>balance</th>\n",
              "      <th>age</th>\n",
              "      <th>amount</th>\n",
              "    </tr>\n",
              "    <tr>\n",
              "      <th>customer_id</th>\n",
              "      <th></th>\n",
              "      <th></th>\n",
              "      <th></th>\n",
              "      <th></th>\n",
              "      <th></th>\n",
              "    </tr>\n",
              "  </thead>\n",
              "  <tbody>\n",
              "    <tr>\n",
              "      <th>CUS-1005756958</th>\n",
              "      <td>NaN</td>\n",
              "      <td>0.0</td>\n",
              "      <td>4718.665385</td>\n",
              "      <td>53</td>\n",
              "      <td>970.47</td>\n",
              "    </tr>\n",
              "    <tr>\n",
              "      <th>CUS-1117979751</th>\n",
              "      <td>NaN</td>\n",
              "      <td>0.0</td>\n",
              "      <td>11957.202857</td>\n",
              "      <td>21</td>\n",
              "      <td>3578.65</td>\n",
              "    </tr>\n",
              "    <tr>\n",
              "      <th>CUS-1140341822</th>\n",
              "      <td>NaN</td>\n",
              "      <td>0.0</td>\n",
              "      <td>5841.720000</td>\n",
              "      <td>28</td>\n",
              "      <td>1916.51</td>\n",
              "    </tr>\n",
              "    <tr>\n",
              "      <th>CUS-1147642491</th>\n",
              "      <td>NaN</td>\n",
              "      <td>0.0</td>\n",
              "      <td>8813.467692</td>\n",
              "      <td>34</td>\n",
              "      <td>1711.39</td>\n",
              "    </tr>\n",
              "    <tr>\n",
              "      <th>CUS-1196156254</th>\n",
              "      <td>NaN</td>\n",
              "      <td>0.0</td>\n",
              "      <td>23845.717143</td>\n",
              "      <td>34</td>\n",
              "      <td>3903.73</td>\n",
              "    </tr>\n",
              "  </tbody>\n",
              "</table>\n",
              "</div>"
            ],
            "text/plain": [
              "                card_present_flag  merchant_code       balance  age   amount\n",
              "customer_id                                                                 \n",
              "CUS-1005756958                NaN            0.0   4718.665385   53   970.47\n",
              "CUS-1117979751                NaN            0.0  11957.202857   21  3578.65\n",
              "CUS-1140341822                NaN            0.0   5841.720000   28  1916.51\n",
              "CUS-1147642491                NaN            0.0   8813.467692   34  1711.39\n",
              "CUS-1196156254                NaN            0.0  23845.717143   34  3903.73"
            ]
          },
          "metadata": {
            "tags": []
          },
          "execution_count": 3
        }
      ]
    },
    {
      "cell_type": "code",
      "metadata": {
        "id": "9lElmZKMqPts",
        "colab_type": "code",
        "colab": {}
      },
      "source": [
        "salaries = []\n",
        "\n",
        "for customer_id in df[\"customer_id\"]:\n",
        "    salaries.append(int(df_salaries.loc[customer_id][\"amount\"]))\n",
        "    \n",
        "df[\"annual_salary\"] = salaries"
      ],
      "execution_count": 0,
      "outputs": []
    },
    {
      "cell_type": "code",
      "metadata": {
        "id": "_DJUbDjCqPt_",
        "colab_type": "code",
        "colab": {
          "base_uri": "https://localhost:8080/",
          "height": 235
        },
        "outputId": "24d26f32-cbed-416d-bf37-577ebdf39845"
      },
      "source": [
        "df_cus = df.groupby(\"customer_id\").mean()\n",
        "df_cus.head()"
      ],
      "execution_count": 5,
      "outputs": [
        {
          "output_type": "execute_result",
          "data": {
            "text/html": [
              "<div>\n",
              "<style scoped>\n",
              "    .dataframe tbody tr th:only-of-type {\n",
              "        vertical-align: middle;\n",
              "    }\n",
              "\n",
              "    .dataframe tbody tr th {\n",
              "        vertical-align: top;\n",
              "    }\n",
              "\n",
              "    .dataframe thead th {\n",
              "        text-align: right;\n",
              "    }\n",
              "</style>\n",
              "<table border=\"1\" class=\"dataframe\">\n",
              "  <thead>\n",
              "    <tr style=\"text-align: right;\">\n",
              "      <th></th>\n",
              "      <th>card_present_flag</th>\n",
              "      <th>merchant_code</th>\n",
              "      <th>balance</th>\n",
              "      <th>age</th>\n",
              "      <th>amount</th>\n",
              "      <th>annual_salary</th>\n",
              "    </tr>\n",
              "    <tr>\n",
              "      <th>customer_id</th>\n",
              "      <th></th>\n",
              "      <th></th>\n",
              "      <th></th>\n",
              "      <th></th>\n",
              "      <th></th>\n",
              "      <th></th>\n",
              "    </tr>\n",
              "  </thead>\n",
              "  <tbody>\n",
              "    <tr>\n",
              "      <th>CUS-1005756958</th>\n",
              "      <td>0.812500</td>\n",
              "      <td>0.0</td>\n",
              "      <td>2275.852055</td>\n",
              "      <td>53</td>\n",
              "      <td>222.862603</td>\n",
              "      <td>970</td>\n",
              "    </tr>\n",
              "    <tr>\n",
              "      <th>CUS-1117979751</th>\n",
              "      <td>0.826923</td>\n",
              "      <td>0.0</td>\n",
              "      <td>9829.929000</td>\n",
              "      <td>21</td>\n",
              "      <td>339.843700</td>\n",
              "      <td>3578</td>\n",
              "    </tr>\n",
              "    <tr>\n",
              "      <th>CUS-1140341822</th>\n",
              "      <td>0.815385</td>\n",
              "      <td>0.0</td>\n",
              "      <td>5699.212250</td>\n",
              "      <td>28</td>\n",
              "      <td>212.632500</td>\n",
              "      <td>1916</td>\n",
              "    </tr>\n",
              "    <tr>\n",
              "      <th>CUS-1147642491</th>\n",
              "      <td>0.750000</td>\n",
              "      <td>0.0</td>\n",
              "      <td>9032.841186</td>\n",
              "      <td>34</td>\n",
              "      <td>245.600169</td>\n",
              "      <td>1711</td>\n",
              "    </tr>\n",
              "    <tr>\n",
              "      <th>CUS-1196156254</th>\n",
              "      <td>0.785276</td>\n",
              "      <td>0.0</td>\n",
              "      <td>22272.433755</td>\n",
              "      <td>34</td>\n",
              "      <td>147.145796</td>\n",
              "      <td>3903</td>\n",
              "    </tr>\n",
              "  </tbody>\n",
              "</table>\n",
              "</div>"
            ],
            "text/plain": [
              "                card_present_flag  merchant_code  ...      amount  annual_salary\n",
              "customer_id                                       ...                           \n",
              "CUS-1005756958           0.812500            0.0  ...  222.862603            970\n",
              "CUS-1117979751           0.826923            0.0  ...  339.843700           3578\n",
              "CUS-1140341822           0.815385            0.0  ...  212.632500           1916\n",
              "CUS-1147642491           0.750000            0.0  ...  245.600169           1711\n",
              "CUS-1196156254           0.785276            0.0  ...  147.145796           3903\n",
              "\n",
              "[5 rows x 6 columns]"
            ]
          },
          "metadata": {
            "tags": []
          },
          "execution_count": 5
        }
      ]
    },
    {
      "cell_type": "markdown",
      "metadata": {
        "id": "f_-XBxK0qPuK",
        "colab_type": "text"
      },
      "source": [
        "# Predictive Analytics"
      ]
    },
    {
      "cell_type": "markdown",
      "metadata": {
        "id": "ze4DpT9nqPuL",
        "colab_type": "text"
      },
      "source": [
        "### Linear Regression"
      ]
    },
    {
      "cell_type": "code",
      "metadata": {
        "id": "efbEWFw7qPuN",
        "colab_type": "code",
        "colab": {}
      },
      "source": [
        "N_train = int(len(df_cus)*0.8)\n",
        "X_train = df_cus.drop(\"annual_salary\", axis=1).iloc[:N_train]\n",
        "Y_train = df_cus[\"annual_salary\"].iloc[:N_train]\n",
        "X_test = df_cus.drop(\"annual_salary\", axis=1).iloc[N_train:]\n",
        "Y_test = df_cus[\"annual_salary\"].iloc[N_train:]"
      ],
      "execution_count": 0,
      "outputs": []
    },
    {
      "cell_type": "code",
      "metadata": {
        "id": "_uC0UWXvqPuW",
        "colab_type": "code",
        "colab": {}
      },
      "source": [
        "linear_reg = LinearRegression()"
      ],
      "execution_count": 0,
      "outputs": []
    },
    {
      "cell_type": "code",
      "metadata": {
        "id": "9XOZ0j_5qPuh",
        "colab_type": "code",
        "colab": {
          "base_uri": "https://localhost:8080/",
          "height": 34
        },
        "outputId": "a6c626dd-d220-4681-bb80-8c99f5bee6aa"
      },
      "source": [
        "linear_reg.fit(X_train, Y_train)\n",
        "linear_reg.score(X_train, Y_train)"
      ],
      "execution_count": 8,
      "outputs": [
        {
          "output_type": "execute_result",
          "data": {
            "text/plain": [
              "0.23295376366257825"
            ]
          },
          "metadata": {
            "tags": []
          },
          "execution_count": 8
        }
      ]
    },
    {
      "cell_type": "code",
      "metadata": {
        "id": "zKnqnaw8qPuo",
        "colab_type": "code",
        "colab": {
          "base_uri": "https://localhost:8080/",
          "height": 102
        },
        "outputId": "0dfa7e25-07d5-42e5-f809-4e9273fa5b8c"
      },
      "source": [
        "linear_reg.predict(X_test)"
      ],
      "execution_count": 9,
      "outputs": [
        {
          "output_type": "execute_result",
          "data": {
            "text/plain": [
              "array([1993.98473311, 2867.39066481, 1944.95959591, 1806.85984885,\n",
              "       2226.35045442, 2075.34697175, 1813.02987337, 5388.67435983,\n",
              "       1902.35351608, 2191.90445145, 1713.48134178, 2854.40519949,\n",
              "       2094.77781158, 3815.34342881, 2249.92922822, 1768.80816189,\n",
              "       2095.02988288, 1515.18425875, 1782.72752537, 2481.2898546 ])"
            ]
          },
          "metadata": {
            "tags": []
          },
          "execution_count": 9
        }
      ]
    },
    {
      "cell_type": "code",
      "metadata": {
        "id": "o-jB34S7qPux",
        "colab_type": "code",
        "colab": {
          "base_uri": "https://localhost:8080/",
          "height": 34
        },
        "outputId": "03cb049e-aa0b-450b-a391-a336eea8cd59"
      },
      "source": [
        "linear_reg.score(X_test, Y_test)"
      ],
      "execution_count": 10,
      "outputs": [
        {
          "output_type": "execute_result",
          "data": {
            "text/plain": [
              "-0.31694234980747504"
            ]
          },
          "metadata": {
            "tags": []
          },
          "execution_count": 10
        }
      ]
    },
    {
      "cell_type": "markdown",
      "metadata": {
        "id": "ilqCDs06qPu5",
        "colab_type": "text"
      },
      "source": [
        "### Decision Tree - Classification and Regression"
      ]
    },
    {
      "cell_type": "code",
      "metadata": {
        "id": "gDXslgE5qPu7",
        "colab_type": "code",
        "colab": {}
      },
      "source": [
        "df_cat = df[[\"txn_description\", \"gender\", \"age\", \"merchant_state\", \"movement\"]]"
      ],
      "execution_count": 0,
      "outputs": []
    },
    {
      "cell_type": "code",
      "metadata": {
        "id": "dSi1Dk2CqPvE",
        "colab_type": "code",
        "colab": {
          "base_uri": "https://localhost:8080/",
          "height": 241
        },
        "outputId": "1413e1ac-773b-4dc4-87bc-55c4eb3c0e6c"
      },
      "source": [
        "pd.get_dummies(df_cat).head()"
      ],
      "execution_count": 12,
      "outputs": [
        {
          "output_type": "execute_result",
          "data": {
            "text/html": [
              "<div>\n",
              "<style scoped>\n",
              "    .dataframe tbody tr th:only-of-type {\n",
              "        vertical-align: middle;\n",
              "    }\n",
              "\n",
              "    .dataframe tbody tr th {\n",
              "        vertical-align: top;\n",
              "    }\n",
              "\n",
              "    .dataframe thead th {\n",
              "        text-align: right;\n",
              "    }\n",
              "</style>\n",
              "<table border=\"1\" class=\"dataframe\">\n",
              "  <thead>\n",
              "    <tr style=\"text-align: right;\">\n",
              "      <th></th>\n",
              "      <th>age</th>\n",
              "      <th>txn_description_INTER BANK</th>\n",
              "      <th>txn_description_PAY/SALARY</th>\n",
              "      <th>txn_description_PAYMENT</th>\n",
              "      <th>txn_description_PHONE BANK</th>\n",
              "      <th>txn_description_POS</th>\n",
              "      <th>txn_description_SALES-POS</th>\n",
              "      <th>gender_F</th>\n",
              "      <th>gender_M</th>\n",
              "      <th>merchant_state_ACT</th>\n",
              "      <th>merchant_state_NSW</th>\n",
              "      <th>merchant_state_NT</th>\n",
              "      <th>merchant_state_QLD</th>\n",
              "      <th>merchant_state_SA</th>\n",
              "      <th>merchant_state_TAS</th>\n",
              "      <th>merchant_state_VIC</th>\n",
              "      <th>merchant_state_WA</th>\n",
              "      <th>movement_credit</th>\n",
              "      <th>movement_debit</th>\n",
              "    </tr>\n",
              "  </thead>\n",
              "  <tbody>\n",
              "    <tr>\n",
              "      <th>0</th>\n",
              "      <td>26</td>\n",
              "      <td>0</td>\n",
              "      <td>0</td>\n",
              "      <td>0</td>\n",
              "      <td>0</td>\n",
              "      <td>1</td>\n",
              "      <td>0</td>\n",
              "      <td>1</td>\n",
              "      <td>0</td>\n",
              "      <td>0</td>\n",
              "      <td>0</td>\n",
              "      <td>0</td>\n",
              "      <td>1</td>\n",
              "      <td>0</td>\n",
              "      <td>0</td>\n",
              "      <td>0</td>\n",
              "      <td>0</td>\n",
              "      <td>0</td>\n",
              "      <td>1</td>\n",
              "    </tr>\n",
              "    <tr>\n",
              "      <th>1</th>\n",
              "      <td>26</td>\n",
              "      <td>0</td>\n",
              "      <td>0</td>\n",
              "      <td>0</td>\n",
              "      <td>0</td>\n",
              "      <td>0</td>\n",
              "      <td>1</td>\n",
              "      <td>1</td>\n",
              "      <td>0</td>\n",
              "      <td>0</td>\n",
              "      <td>1</td>\n",
              "      <td>0</td>\n",
              "      <td>0</td>\n",
              "      <td>0</td>\n",
              "      <td>0</td>\n",
              "      <td>0</td>\n",
              "      <td>0</td>\n",
              "      <td>0</td>\n",
              "      <td>1</td>\n",
              "    </tr>\n",
              "    <tr>\n",
              "      <th>2</th>\n",
              "      <td>38</td>\n",
              "      <td>0</td>\n",
              "      <td>0</td>\n",
              "      <td>0</td>\n",
              "      <td>0</td>\n",
              "      <td>1</td>\n",
              "      <td>0</td>\n",
              "      <td>0</td>\n",
              "      <td>1</td>\n",
              "      <td>0</td>\n",
              "      <td>1</td>\n",
              "      <td>0</td>\n",
              "      <td>0</td>\n",
              "      <td>0</td>\n",
              "      <td>0</td>\n",
              "      <td>0</td>\n",
              "      <td>0</td>\n",
              "      <td>0</td>\n",
              "      <td>1</td>\n",
              "    </tr>\n",
              "    <tr>\n",
              "      <th>3</th>\n",
              "      <td>40</td>\n",
              "      <td>0</td>\n",
              "      <td>0</td>\n",
              "      <td>0</td>\n",
              "      <td>0</td>\n",
              "      <td>0</td>\n",
              "      <td>1</td>\n",
              "      <td>1</td>\n",
              "      <td>0</td>\n",
              "      <td>0</td>\n",
              "      <td>0</td>\n",
              "      <td>0</td>\n",
              "      <td>1</td>\n",
              "      <td>0</td>\n",
              "      <td>0</td>\n",
              "      <td>0</td>\n",
              "      <td>0</td>\n",
              "      <td>0</td>\n",
              "      <td>1</td>\n",
              "    </tr>\n",
              "    <tr>\n",
              "      <th>4</th>\n",
              "      <td>26</td>\n",
              "      <td>0</td>\n",
              "      <td>0</td>\n",
              "      <td>0</td>\n",
              "      <td>0</td>\n",
              "      <td>0</td>\n",
              "      <td>1</td>\n",
              "      <td>1</td>\n",
              "      <td>0</td>\n",
              "      <td>0</td>\n",
              "      <td>0</td>\n",
              "      <td>0</td>\n",
              "      <td>1</td>\n",
              "      <td>0</td>\n",
              "      <td>0</td>\n",
              "      <td>0</td>\n",
              "      <td>0</td>\n",
              "      <td>0</td>\n",
              "      <td>1</td>\n",
              "    </tr>\n",
              "  </tbody>\n",
              "</table>\n",
              "</div>"
            ],
            "text/plain": [
              "   age  txn_description_INTER BANK  ...  movement_credit  movement_debit\n",
              "0   26                           0  ...                0               1\n",
              "1   26                           0  ...                0               1\n",
              "2   38                           0  ...                0               1\n",
              "3   40                           0  ...                0               1\n",
              "4   26                           0  ...                0               1\n",
              "\n",
              "[5 rows x 19 columns]"
            ]
          },
          "metadata": {
            "tags": []
          },
          "execution_count": 12
        }
      ]
    },
    {
      "cell_type": "code",
      "metadata": {
        "id": "8_WE9qzhqPvM",
        "colab_type": "code",
        "colab": {}
      },
      "source": [
        "N_train = int(len(df)*0.8)\n",
        "X_train = pd.get_dummies(df_cat).iloc[:N_train]\n",
        "Y_train = df[\"annual_salary\"].iloc[:N_train]\n",
        "X_test = pd.get_dummies(df_cat).iloc[N_train:]\n",
        "Y_test = df[\"annual_salary\"].iloc[N_train:]"
      ],
      "execution_count": 0,
      "outputs": []
    },
    {
      "cell_type": "markdown",
      "metadata": {
        "id": "qU4LdxTjqPvT",
        "colab_type": "text"
      },
      "source": [
        "#### Classification"
      ]
    },
    {
      "cell_type": "code",
      "metadata": {
        "id": "zbgD7ud7qPvV",
        "colab_type": "code",
        "colab": {}
      },
      "source": [
        "decision_tree_class = DecisionTreeClassifier()"
      ],
      "execution_count": 0,
      "outputs": []
    },
    {
      "cell_type": "code",
      "metadata": {
        "id": "hToBFk2nqPvd",
        "colab_type": "code",
        "colab": {
          "base_uri": "https://localhost:8080/",
          "height": 34
        },
        "outputId": "98fea0e9-d263-4ea6-af19-327102da7b2c"
      },
      "source": [
        "decision_tree_class.fit(X_train, Y_train)\n",
        "decision_tree_class.score(X_train, Y_train)"
      ],
      "execution_count": 15,
      "outputs": [
        {
          "output_type": "execute_result",
          "data": {
            "text/plain": [
              "0.7882499481004774"
            ]
          },
          "metadata": {
            "tags": []
          },
          "execution_count": 15
        }
      ]
    },
    {
      "cell_type": "code",
      "metadata": {
        "id": "0PT_ibJNqPvn",
        "colab_type": "code",
        "colab": {
          "base_uri": "https://localhost:8080/",
          "height": 34
        },
        "outputId": "11c90073-5e08-4897-cbdb-2e9c2ee6ec9e"
      },
      "source": [
        "decision_tree_class.predict(X_test)"
      ],
      "execution_count": 16,
      "outputs": [
        {
          "output_type": "execute_result",
          "data": {
            "text/plain": [
              "array([1013, 1043, 4132, ..., 4054, 1043,  996])"
            ]
          },
          "metadata": {
            "tags": []
          },
          "execution_count": 16
        }
      ]
    },
    {
      "cell_type": "code",
      "metadata": {
        "id": "7MtL9WmmqPvx",
        "colab_type": "code",
        "colab": {
          "base_uri": "https://localhost:8080/",
          "height": 34
        },
        "outputId": "52bfa874-c1b6-4ef3-ed8e-b3d2f0960bf3"
      },
      "source": [
        "decision_tree_class.score(X_test, Y_test)"
      ],
      "execution_count": 17,
      "outputs": [
        {
          "output_type": "execute_result",
          "data": {
            "text/plain": [
              "0.755085097550851"
            ]
          },
          "metadata": {
            "tags": []
          },
          "execution_count": 17
        }
      ]
    },
    {
      "cell_type": "markdown",
      "metadata": {
        "id": "nMz99DFFqPv6",
        "colab_type": "text"
      },
      "source": [
        "#### Regression"
      ]
    },
    {
      "cell_type": "code",
      "metadata": {
        "id": "Ax5SK8YlqPv7",
        "colab_type": "code",
        "colab": {}
      },
      "source": [
        "decision_tree_reg = DecisionTreeRegressor()"
      ],
      "execution_count": 0,
      "outputs": []
    },
    {
      "cell_type": "code",
      "metadata": {
        "id": "CHqxy9VzqPwC",
        "colab_type": "code",
        "colab": {
          "base_uri": "https://localhost:8080/",
          "height": 34
        },
        "outputId": "51ff678f-7eee-41cb-d926-afde8e01569f"
      },
      "source": [
        "decision_tree_reg.fit(X_train, Y_train)\n",
        "decision_tree_reg.score(X_train, Y_train)"
      ],
      "execution_count": 19,
      "outputs": [
        {
          "output_type": "execute_result",
          "data": {
            "text/plain": [
              "0.7468978726536879"
            ]
          },
          "metadata": {
            "tags": []
          },
          "execution_count": 19
        }
      ]
    },
    {
      "cell_type": "code",
      "metadata": {
        "id": "kSFAnABSqPwK",
        "colab_type": "code",
        "colab": {
          "base_uri": "https://localhost:8080/",
          "height": 51
        },
        "outputId": "b0920c7c-76f0-4e6d-c8d4-76d962994a32"
      },
      "source": [
        "decision_tree_reg.predict(X_test)"
      ],
      "execution_count": 20,
      "outputs": [
        {
          "output_type": "execute_result",
          "data": {
            "text/plain": [
              "array([1226.42857143, 1043.        , 4132.        , ..., 3345.04761905,\n",
              "       1043.        , 1626.        ])"
            ]
          },
          "metadata": {
            "tags": []
          },
          "execution_count": 20
        }
      ]
    },
    {
      "cell_type": "code",
      "metadata": {
        "id": "DJ6ev7r1qPwU",
        "colab_type": "code",
        "colab": {
          "base_uri": "https://localhost:8080/",
          "height": 34
        },
        "outputId": "00579b98-29a4-41af-90d0-e0ad06207f01"
      },
      "source": [
        "decision_tree_reg.score(X_test, Y_test)"
      ],
      "execution_count": 21,
      "outputs": [
        {
          "output_type": "execute_result",
          "data": {
            "text/plain": [
              "0.679985937765625"
            ]
          },
          "metadata": {
            "tags": []
          },
          "execution_count": 21
        }
      ]
    },
    {
      "cell_type": "code",
      "metadata": {
        "id": "6Go3tD0srgWE",
        "colab_type": "code",
        "colab": {}
      },
      "source": [
        ""
      ],
      "execution_count": 0,
      "outputs": []
    }
  ]
}